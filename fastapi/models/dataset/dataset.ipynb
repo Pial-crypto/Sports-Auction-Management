{
 "cells": [
  {
   "cell_type": "code",
   "execution_count": 1,
   "id": "d68504f0",
   "metadata": {},
   "outputs": [],
   "source": [
    "import random\n",
    "import pandas as pd\n",
    "\n",
    "positions = ['Forward', 'Midfielder', 'Defender', 'Goalkeeper']\n",
    "buy_labels = []\n",
    "\n",
    "data = []\n",
    "for _ in range(1000):\n",
    "    predicted_price = random.randint(40, 100)\n",
    "    actual_price = predicted_price + random.randint(-10, 10)\n",
    "    budget = random.randint(50, 300)\n",
    "    position_needed = random.choice([0, 1])\n",
    "    popularity = round(random.uniform(0, 1), 2)\n",
    "    performance = round(random.uniform(0.5, 1.0), 2)\n",
    "    composition_match = random.choice([0, 1])\n",
    "    age = random.randint(18, 35)\n",
    "    injury_risk = round(random.uniform(0, 1), 2)\n",
    "\n",
    "    # Buy if good deal and fits team\n",
    "    buy = 1 if (predicted_price - actual_price > 5 and composition_match and budget > actual_price) else 0\n",
    "\n",
    "    data.append([\n",
    "        predicted_price, actual_price, predicted_price - actual_price,\n",
    "        budget, position_needed, popularity, performance,\n",
    "        composition_match, age, injury_risk, buy\n",
    "    ])\n",
    "\n",
    "df = pd.DataFrame(data, columns=[\n",
    "    'predicted_price', 'actual_price', 'value_diff',\n",
    "    'budget', 'position_needed', 'popularity',\n",
    "    'performance', 'composition_match', 'age',\n",
    "    'injury_risk', 'buy_decision'\n",
    "])\n",
    "df.to_csv(\"synthetic_auction_training_data.csv\", index=False)\n"
   ]
  }
 ],
 "metadata": {
  "kernelspec": {
   "display_name": "Python 3",
   "language": "python",
   "name": "python3"
  },
  "language_info": {
   "codemirror_mode": {
    "name": "ipython",
    "version": 3
   },
   "file_extension": ".py",
   "mimetype": "text/x-python",
   "name": "python",
   "nbconvert_exporter": "python",
   "pygments_lexer": "ipython3",
   "version": "3.11.4"
  }
 },
 "nbformat": 4,
 "nbformat_minor": 5
}
