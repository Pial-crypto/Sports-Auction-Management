{
 "cells": [
  {
   "cell_type": "code",
   "execution_count": 9,
   "id": "a338efa3",
   "metadata": {},
   "outputs": [],
   "source": [
    "import pandas as pd\n",
    "import numpy as np"
   ]
  },
  {
   "cell_type": "code",
   "execution_count": 10,
   "id": "18c662ea",
   "metadata": {},
   "outputs": [],
   "source": [
    "df=pd.read_csv(\"cricket_players_stats_combined.csv\")"
   ]
  },
  {
   "cell_type": "code",
   "execution_count": 11,
   "id": "7d56cde0",
   "metadata": {},
   "outputs": [],
   "source": [
    "df.replace(['–', '-', 'NA', 'N/A'], 0, inplace=True)"
   ]
  },
  {
   "cell_type": "code",
   "execution_count": 12,
   "id": "84e5af87",
   "metadata": {},
   "outputs": [],
   "source": [
    "numeric_cols = ['Mat', 'Runs', 'Avg', '50', '100', 'Wkt', 'Ave', 'Ca', 'St']\n",
    "for col in numeric_cols:\n",
    "    df[col] = pd.to_numeric(df[col], errors='coerce').fillna(0)"
   ]
  },
  {
   "cell_type": "code",
   "execution_count": 13,
   "id": "32b45baf",
   "metadata": {},
   "outputs": [],
   "source": [
    "weights = {\n",
    "    'Mat': 0.2,\n",
    "    'Runs': 0.3,\n",
    "    'Avg': 0.2,\n",
    "    '50': 0.1,\n",
    "    '100': 0.1,\n",
    "    'Wkt': 0.2,\n",
    "    'Ave': -0.1, \n",
    "    'Ca': 0.05,\n",
    "    'St': 0.05\n",
    "}"
   ]
  },
  {
   "cell_type": "code",
   "execution_count": 14,
   "id": "6b4bd5b1",
   "metadata": {},
   "outputs": [],
   "source": [
    "df['performance_score'] = (\n",
    "    df['Mat'] * weights['Mat'] +\n",
    "    df['Runs'] * weights['Runs'] +\n",
    "    df['Avg'] * weights['Avg'] +\n",
    "    df['50'] * weights['50'] +\n",
    "    df['100'] * weights['100'] +\n",
    "    df['Wkt'] * weights['Wkt'] +\n",
    "    df['Ave'] * weights['Ave'] +\n",
    "    df['Ca'] * weights['Ca'] +\n",
    "    df['St'] * weights['St']\n",
    ")"
   ]
  },
  {
   "cell_type": "code",
   "execution_count": 15,
   "id": "529813a1",
   "metadata": {},
   "outputs": [],
   "source": [
    "df['normalized_score'] = (df['performance_score'] - df['performance_score'].min()) / (df['performance_score'].max() - df['performance_score'].min())\n",
    "\n",
    "\n",
    "min_value = 1_000_000\n",
    "max_value = 20_000_000\n",
    "df['current_market_value'] = df['normalized_score'] * (max_value - min_value) + min_value\n",
    "\n",
    "\n",
    "df.to_csv(\"synthetic_auction_training_data_with_market_value.csv\", index=False)"
   ]
  }
 ],
 "metadata": {
  "kernelspec": {
   "display_name": "Python 3",
   "language": "python",
   "name": "python3"
  },
  "language_info": {
   "codemirror_mode": {
    "name": "ipython",
    "version": 3
   },
   "file_extension": ".py",
   "mimetype": "text/x-python",
   "name": "python",
   "nbconvert_exporter": "python",
   "pygments_lexer": "ipython3",
   "version": "3.11.4"
  }
 },
 "nbformat": 4,
 "nbformat_minor": 5
}
