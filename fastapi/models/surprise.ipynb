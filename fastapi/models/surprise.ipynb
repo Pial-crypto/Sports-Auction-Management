{
 "cells": [
  {
   "cell_type": "code",
   "execution_count": null,
   "id": "3387d521",
   "metadata": {},
   "outputs": [],
   "source": [
    "import pandas as pd\n",
    "from surprise import Dataset, Reader, SVD\n",
    "from surprise.model_selection import train_test_split\n",
    "from surprise import accuracy"
   ]
  },
  {
   "cell_type": "code",
   "execution_count": null,
   "id": "739ff240",
   "metadata": {},
   "outputs": [],
   "source": [
    "df = pd.read_csv(\"manager_player_ratings.csv\")\n",
    "\n",
    "reader = Reader(rating_scale=(0, 1))\n",
    "data = Dataset.load_from_df(df[['manager_id', 'player_id', 'rating']], reader)\n",
    "\n",
    "trainset, testset = train_test_split(data, test_size=0.2)"
   ]
  },
  {
   "cell_type": "code",
   "execution_count": null,
   "id": "7bf22b1a",
   "metadata": {},
   "outputs": [],
   "source": [
    "model = SVD()\n",
    "model.fit(trainset)"
   ]
  },
  {
   "cell_type": "code",
   "execution_count": null,
   "id": "43edfa8f",
   "metadata": {},
   "outputs": [],
   "source": [
    "prediction = model.predict(uid='MGR01', iid='P007')\n",
    "print(f\"Predicted rating for MGR01 on P007: {prediction.est}\")"
   ]
  },
  {
   "cell_type": "code",
   "execution_count": null,
   "id": "3f41a7cd",
   "metadata": {},
   "outputs": [],
   "source": []
  }
 ],
 "metadata": {
  "language_info": {
   "name": "python"
  }
 },
 "nbformat": 4,
 "nbformat_minor": 5
}
