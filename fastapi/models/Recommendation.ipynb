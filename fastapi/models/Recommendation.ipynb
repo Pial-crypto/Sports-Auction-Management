{
 "cells": [
  {
   "cell_type": "code",
   "execution_count": null,
   "id": "5b4fd77b",
   "metadata": {},
   "outputs": [],
   "source": [
    "import pandas as pd\n",
    "from sklearn.metrics.pairwise import cosine_similarity"
   ]
  },
  {
   "cell_type": "code",
   "execution_count": null,
   "id": "5958b0e0",
   "metadata": {},
   "outputs": [],
   "source": [
    "df = pd.read_csv(\"player_features.csv\")\n",
    "player_ids = df['player_id']\n",
    "features = df.drop(columns=['player_id'])"
   ]
  },
  {
   "cell_type": "code",
   "execution_count": null,
   "id": "8b5a8f01",
   "metadata": {},
   "outputs": [],
   "source": [
    "similarity_matrix = cosine_similarity(features)"
   ]
  },
  {
   "cell_type": "code",
   "execution_count": null,
   "id": "7826b62e",
   "metadata": {},
   "outputs": [],
   "source": [
    "def recommend_similar_players(target_player_id, top_n=5):\n",
    "    index = player_ids[player_ids == target_player_id].index[0]\n",
    "    similarity_scores = list(enumerate(similarity_matrix[index]))\n",
    "    similarity_scores = sorted(similarity_scores, key=lambda x: x[1], reverse=True)\n",
    "    \n",
    "    similar_players = [player_ids[i[0]] for i in similarity_scores[1:top_n+1]]\n",
    "    return similar_players"
   ]
  }
 ],
 "metadata": {
  "language_info": {
   "name": "python"
  }
 },
 "nbformat": 4,
 "nbformat_minor": 5
}
