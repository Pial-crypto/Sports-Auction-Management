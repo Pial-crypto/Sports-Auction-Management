{
 "cells": [
  {
   "cell_type": "code",
   "execution_count": 16,
   "id": "f7f9e510",
   "metadata": {},
   "outputs": [],
   "source": [
    "import pandas as pd\n",
    "import numpy as np\n",
    "from sklearn.preprocessing import LabelEncoder\n",
    "import matplotlib.pyplot as plt\n",
    "from sklearn.model_selection import train_test_split\n",
    "from sklearn.metrics import r2_score, mean_squared_error\n",
    "from sklearn.ensemble import RandomForestRegressor"
   ]
  },
  {
   "cell_type": "code",
   "execution_count": 17,
   "id": "ec36c9a0",
   "metadata": {},
   "outputs": [],
   "source": [
    "df = pd.read_csv('synthetic_auction_training_data_with_market_value.csv')\n",
    "\n",
    "df.columns = df.columns.str.lower().str.replace(' ', '_')\n",
    "\n",
    "categorical_columns = list(df.dtypes[df.dtypes == 'object'].index)\n",
    "\n",
    "for c in categorical_columns:\n",
    "    df[c] = df[c].str.lower().str.replace(' ', '_')"
   ]
  },
  {
   "cell_type": "code",
   "execution_count": 18,
   "id": "f7f45ee9",
   "metadata": {},
   "outputs": [
    {
     "data": {
      "text/plain": [
       "Index(['team', 'format', 'gender', 'no.', 'name', 'first', 'last', 'mat',\n",
       "       'runs', 'hs', 'avg', '50', '100', 'balls', 'wkt', 'bbi', 'ave', '5wi',\n",
       "       'ca', 'st', 'performance_score', 'normalized_score',\n",
       "       'current_market_value'],\n",
       "      dtype='object')"
      ]
     },
     "execution_count": 18,
     "metadata": {},
     "output_type": "execute_result"
    }
   ],
   "source": [
    "df.columns"
   ]
  },
  {
   "cell_type": "code",
   "execution_count": 19,
   "id": "7506934a",
   "metadata": {},
   "outputs": [
    {
     "name": "stdout",
     "output_type": "stream",
     "text": [
      "team                     object\n",
      "format                   object\n",
      "gender                   object\n",
      "no.                      object\n",
      "name                     object\n",
      "first                    object\n",
      "last                     object\n",
      "mat                     float64\n",
      "runs                    float64\n",
      "hs                      float64\n",
      "avg                     float64\n",
      "50                      float64\n",
      "100                     float64\n",
      "balls                   float64\n",
      "wkt                     float64\n",
      "bbi                     float64\n",
      "ave                     float64\n",
      "5wi                     float64\n",
      "ca                      float64\n",
      "st                      float64\n",
      "performance_score       float64\n",
      "normalized_score        float64\n",
      "current_market_value    float64\n",
      "dtype: object\n"
     ]
    }
   ],
   "source": [
    "numeric_columns = ['runs', 'mat', 'hs', 'avg', '50', '100', 'balls', 'wkt', 'bbi', 'ave', '5wi', 'ca', 'st']\n",
    "\n",
    "for col in numeric_columns:\n",
    "    df[col] = df[col].astype(str).str.replace(',', '').str.strip()\n",
    "    df[col] = pd.to_numeric(df[col], errors='coerce')\n",
    "df = df.dropna(subset=numeric_columns)\n",
    "print(df.dtypes)\n",
    "\n"
   ]
  },
  {
   "cell_type": "code",
   "execution_count": 20,
   "id": "6c55d5ad",
   "metadata": {},
   "outputs": [],
   "source": [
    "df=df.drop([\"name\",\"team\",\"gender\",\"format\",\"first\",\"last\",\"no.\"], axis=1)\n",
    "X = df.drop(\"current_market_value\", axis=1)\n",
    "y = df[\"current_market_value\"]"
   ]
  },
  {
   "cell_type": "code",
   "execution_count": 21,
   "id": "f8206356",
   "metadata": {},
   "outputs": [],
   "source": [
    "X_train, X_test, y_train, y_test = train_test_split(X, y, random_state = 42)\n",
    "rfr = RandomForestRegressor(n_estimators=100, random_state = 0)"
   ]
  },
  {
   "cell_type": "code",
   "execution_count": 22,
   "id": "12b90056",
   "metadata": {},
   "outputs": [
    {
     "data": {
      "text/plain": [
       "0.9999404503537288"
      ]
     },
     "execution_count": 22,
     "metadata": {},
     "output_type": "execute_result"
    }
   ],
   "source": [
    "rfr.fit(X_train, y_train)\n",
    "rfr.score(X_train, y_train)"
   ]
  },
  {
   "cell_type": "code",
   "execution_count": 23,
   "id": "22d52f9a",
   "metadata": {},
   "outputs": [
    {
     "name": "stdout",
     "output_type": "stream",
     "text": [
      "R2 score: 0.9998465371478377\n",
      "RMSE: 11696.952650960655\n"
     ]
    }
   ],
   "source": [
    "y_pred = rfr.predict(X_test)\n",
    "r2 = r2_score(y_test, y_pred)\n",
    "rmse = np.sqrt(mean_squared_error(y_test, y_pred))\n",
    "print(\"R2 score:\", r2)\n",
    "print(\"RMSE:\", rmse)"
   ]
  },
  {
   "cell_type": "code",
   "execution_count": 24,
   "id": "1dd3ac37",
   "metadata": {},
   "outputs": [
    {
     "data": {
      "text/plain": [
       "['mat',\n",
       " 'runs',\n",
       " 'hs',\n",
       " 'avg',\n",
       " '50',\n",
       " '100',\n",
       " 'balls',\n",
       " 'wkt',\n",
       " 'bbi',\n",
       " 'ave',\n",
       " '5wi',\n",
       " 'ca',\n",
       " 'st',\n",
       " 'performance_score',\n",
       " 'normalized_score']"
      ]
     },
     "execution_count": 24,
     "metadata": {},
     "output_type": "execute_result"
    }
   ],
   "source": [
    "import joblib\n",
    "joblib.dump(rfr, 'rf_Cric.pkl')\n",
    "# Assuming 'X_train' is your preprocessed training DataFrame\n",
    "feature_names = X_train.columns.tolist()\n",
    "joblib.dump(feature_names, 'cric_feature_names.pkl')\n",
    "feature_names"
   ]
  }
 ],
 "metadata": {
  "kernelspec": {
   "display_name": "Python 3",
   "language": "python",
   "name": "python3"
  },
  "language_info": {
   "codemirror_mode": {
    "name": "ipython",
    "version": 3
   },
   "file_extension": ".py",
   "mimetype": "text/x-python",
   "name": "python",
   "nbconvert_exporter": "python",
   "pygments_lexer": "ipython3",
   "version": "3.11.4"
  }
 },
 "nbformat": 4,
 "nbformat_minor": 5
}
